{
 "cells": [
  {
   "cell_type": "raw",
   "id": "00a95db5-c1ed-441c-a79a-7fa20dc19962",
   "metadata": {},
   "source": [
    "#Q1. How do you comment code in Python? What are the different types of comments?\n",
    "\n",
    "Ans.In Python, you can comment code using the # symbol. Anything following the # symbol on the same line is considered a comment and is ignored by the Python interpreter.\n",
    "\n",
    "There are two main types of comments in Python:\n",
    "\n",
    "Single-line comments: They start with the # symbol and only comment out the remainder of the line.\n",
    "Multi-line comments/docstrings: They use triple quotes (''' or \"\"\") to span across multiple lines and are typically used for docstrings and documentation purposes."
   ]
  },
  {
   "cell_type": "raw",
   "id": "2f9e7052-9754-4422-8f52-03dc9d8e976c",
   "metadata": {},
   "source": [
    "#Q2. What are variables in Python? How do you declare and assign values to variables?\n",
    "\n",
    "Ans. In Python, variables are used to store and manipulate data. They serve as symbolic names that represent a value or an object. Variables in Python are dynamically typed, meaning you don't need to explicitly declare the type of a variable before assigning a value to it. The type is determined dynamically based on the value assigned.\n",
    "To declare and assign values to variables in Python, you simply use the assignment operator (=).\n",
    "\n",
    "#Ex:- # Variable declaration and assignment\n",
    "message = \"Hello, World!\"\n",
    "count = 10\n",
    "pi = 3.14\n",
    "is_true = True\n",
    "\n",
    "n this example, four variables are declared and assigned values.\n",
    "\n",
    "The variable 'message' is assigned a string value \"Hello, World!\".\n",
    "The variable 'count' is assigned an integer value 10.\n",
    "The variable 'pi' is assigned a floating-point value 3.14.\n",
    "The variable 'is_true' is assigned a boolean value True."
   ]
  },
  {
   "cell_type": "raw",
   "id": "7b67f27f-494d-4e2e-b4b2-a6b86fca2e09",
   "metadata": {},
   "source": [
    "#Q3. How do you convert one data type to another in Python?\n",
    "\n",
    "Ans. In Python, you can convert one data type to another using type conversion functions or constructors that are built-in to the language. These functions allow you to explicitly convert values from one type to another. Here are some common type conversion functions:\n",
    "\n",
    "Ex1:- int(): Converts a value to an integer type\n",
    "x = 5.6\n",
    "x = int(x)  # x is now an integer\n",
    "\n",
    "Ex2:-float(): Converts a value to a floating-point type.\n",
    "y = 10\n",
    "y = float(y)  # y is now a float"
   ]
  },
  {
   "cell_type": "raw",
   "id": "07d51190-ebea-4e0b-a702-e07722097a8a",
   "metadata": {},
   "source": [
    "#Q4. How do you write and execute a Python script from the command line?\n",
    "\n",
    "Ans. i. Open a text editor and create a new file with a .py extension. For example, you can name the file my_script.py.\n",
    "     ii. Write your Python code in the file. For example, you can write a simple script that prints \"Hello, World!\" as follows:\n",
    "     iii. Save the file.\n",
    "     iv. Open a command-line interface (e.g., Command Prompt on Windows or Terminal on macOS/Linux).\n",
    "     v. Navigate to the directory where you saved the Python script using the cd command. For example, if your script is saved on the               desktop, you can navigate to it using:\n",
    "     vi. Once you are in the correct directory, you can execute the Python script using the python command followed by the script's                  filename. \n",
    "     \n",
    "For example: python my_script.py"
   ]
  },
  {
   "cell_type": "markdown",
   "id": "296a3ce7-9948-40a2-a49a-e22982e31ad6",
   "metadata": {},
   "source": [
    "#Q5. Given a list my_list = [1, 2, 3, 4, 5], write the code to slice the list and obtain the sub-list [2, 3].\n",
    "\n",
    "Ans. "
   ]
  },
  {
   "cell_type": "code",
   "execution_count": 11,
   "id": "2c589710-ce35-40ac-bd07-d7c7e8f32e08",
   "metadata": {},
   "outputs": [],
   "source": [
    "my_list = [1, 2, 3, 4, 5]"
   ]
  },
  {
   "cell_type": "code",
   "execution_count": 12,
   "id": "cc244446-a043-4a49-bd64-e50ebd2dd1a3",
   "metadata": {},
   "outputs": [
    {
     "name": "stdout",
     "output_type": "stream",
     "text": [
      "[2, 3]\n"
     ]
    }
   ],
   "source": [
    "sub_list=my_list[1:3]\n",
    "\n",
    "print(sub_list)"
   ]
  },
  {
   "cell_type": "raw",
   "id": "562ea494-6940-4eca-98cc-f929322dc2de",
   "metadata": {},
   "source": [
    "#Q6. What is a complex number in mathematics, and how is it represented in Python?\n",
    "\n",
    "Ans. In mathematics, a complex number is a number of the form a + bi, where a and b are real numbers, and i represents the imaginary unit. The imaginary unit i is defined as the square root of -1.\n",
    "\n",
    "In a complex number, the real part a represents the real component of the number, and the imaginary part b represents the imaginary component of the number. The real and imaginary parts can be positive, negative, or zero.\n",
    "\n",
    "In Python, complex numbers are represented using the complex data type. The imaginary part is specified using the suffix j or J, instead of i. Here's an example of how complex numbers are represented in Python:"
   ]
  },
  {
   "cell_type": "code",
   "execution_count": 13,
   "id": "c964e3a5-24e4-4123-95da-fb42ff1591ad",
   "metadata": {},
   "outputs": [
    {
     "name": "stdout",
     "output_type": "stream",
     "text": [
      "(2+3j)\n",
      "(-1.5+2.5j)\n",
      "4j\n"
     ]
    }
   ],
   "source": [
    "# Creating complex numbers\n",
    "z1 = 2 + 3j\n",
    "z2 = -1.5 + 2.5j\n",
    "z3 = 4j\n",
    "\n",
    "# Printing complex numbers\n",
    "print(z1)\n",
    "print(z2)\n",
    "print(z3)"
   ]
  },
  {
   "cell_type": "markdown",
   "id": "15c8b8ec-bf7b-441b-b07a-5880853ad0eb",
   "metadata": {},
   "source": [
    "#Q7. What is the correct way to declare a variable named age and assign the value 25 to it?\n",
    "\n",
    "Ans."
   ]
  },
  {
   "cell_type": "code",
   "execution_count": 14,
   "id": "20de6de9-1a46-42b9-8902-c697ee59d157",
   "metadata": {},
   "outputs": [],
   "source": [
    "age=25"
   ]
  },
  {
   "cell_type": "markdown",
   "id": "981ceb3a-afb3-476c-9490-3f08184cb285",
   "metadata": {},
   "source": [
    "#Q8. Declare a variable named price and assign the value 9.99 to it. What data type does this variable\n",
    "belong to?\n",
    "\n",
    "Ans. This variable belong to float data type."
   ]
  },
  {
   "cell_type": "code",
   "execution_count": 15,
   "id": "4d9dd58f-9b37-45b1-9b4f-ca6d7a6596bf",
   "metadata": {},
   "outputs": [],
   "source": [
    "price=9.99"
   ]
  },
  {
   "cell_type": "code",
   "execution_count": 16,
   "id": "a0621f57-fa65-41fb-9505-f25572abedf1",
   "metadata": {},
   "outputs": [
    {
     "data": {
      "text/plain": [
       "float"
      ]
     },
     "execution_count": 16,
     "metadata": {},
     "output_type": "execute_result"
    }
   ],
   "source": [
    "type(9.99)"
   ]
  },
  {
   "cell_type": "markdown",
   "id": "3ecd14de-ef99-463b-a890-c64a6832259c",
   "metadata": {},
   "source": [
    "#Q9. Create a variable named name and assign your full name to it as a string. How would you print the\n",
    "value of this variable?\n",
    "\n",
    "Ans. "
   ]
  },
  {
   "cell_type": "code",
   "execution_count": 17,
   "id": "8789dbc8-9ec9-48de-840b-7a3cc8828913",
   "metadata": {},
   "outputs": [],
   "source": [
    "name= \"saroj kumar mallick\""
   ]
  },
  {
   "cell_type": "code",
   "execution_count": 18,
   "id": "96df664d-25c4-4b81-ad90-9039c5616efd",
   "metadata": {},
   "outputs": [
    {
     "data": {
      "text/plain": [
       "str"
      ]
     },
     "execution_count": 18,
     "metadata": {},
     "output_type": "execute_result"
    }
   ],
   "source": [
    "type(\"saroj kumar mallick\")"
   ]
  },
  {
   "cell_type": "markdown",
   "id": "9747835d-f638-426f-8d6f-56ed9a59f8f8",
   "metadata": {},
   "source": [
    "#Q10. Given the string \"Hello, World!\", extract the substring \"World\".\n",
    "\n",
    "Ans."
   ]
  },
  {
   "cell_type": "code",
   "execution_count": 19,
   "id": "8169e072-e1c9-4fa8-b04f-8a2f7cc18e05",
   "metadata": {},
   "outputs": [
    {
     "name": "stdout",
     "output_type": "stream",
     "text": [
      "\n"
     ]
    }
   ],
   "source": [
    "string= \"Hello,World\"\n",
    "substring = string[7:2]\n",
    "print(substring)"
   ]
  },
  {
   "cell_type": "markdown",
   "id": "eaa762b7-6499-42cc-85b8-976d2fd7696b",
   "metadata": {},
   "source": [
    "#Q11. Create a variable named \"is_student\" and assign it a boolean value indicating whether you are\n",
    "currently a student or not.\n",
    "\n",
    "Ans."
   ]
  },
  {
   "cell_type": "code",
   "execution_count": 20,
   "id": "9d80ddcd-2a3d-4431-ac41-d87532533f7d",
   "metadata": {},
   "outputs": [],
   "source": [
    "is_student=True"
   ]
  },
  {
   "cell_type": "code",
   "execution_count": null,
   "id": "a8758d25-68b0-43f1-a0c5-65aad4e741cd",
   "metadata": {},
   "outputs": [],
   "source": []
  }
 ],
 "metadata": {
  "kernelspec": {
   "display_name": "Python 3 (ipykernel)",
   "language": "python",
   "name": "python3"
  },
  "language_info": {
   "codemirror_mode": {
    "name": "ipython",
    "version": 3
   },
   "file_extension": ".py",
   "mimetype": "text/x-python",
   "name": "python",
   "nbconvert_exporter": "python",
   "pygments_lexer": "ipython3",
   "version": "3.10.8"
  }
 },
 "nbformat": 4,
 "nbformat_minor": 5
}
